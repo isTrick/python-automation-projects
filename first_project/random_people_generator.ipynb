{
 "cells": [
  {
   "cell_type": "code",
   "execution_count": 1,
   "metadata": {},
   "outputs": [],
   "source": [
    "import pandas as pd\n",
    "from datetime import datetime, timedelta\n",
    "import random"
   ]
  },
  {
   "cell_type": "code",
   "execution_count": 2,
   "metadata": {},
   "outputs": [
    {
     "name": "stdout",
     "output_type": "stream",
     "text": [
      "          Name Gender\n",
      "0         Abel      M\n",
      "1     Abelardo      M\n",
      "2        Abner      M\n",
      "3       Abraão      M\n",
      "4      Absalom      M\n",
      "...        ...    ...\n",
      "6095      Ésia      F\n",
      "6096      Íria      F\n",
      "6097      Íris      F\n",
      "6098     Úlima      F\n",
      "6099    Úrsula      F\n",
      "\n",
      "[6100 rows x 2 columns]\n"
     ]
    }
   ],
   "source": [
    "df = pd.read_csv('assets/brazilian-names-and-gender.csv')\n",
    "print(df)"
   ]
  },
  {
   "cell_type": "code",
   "execution_count": 3,
   "metadata": {},
   "outputs": [
    {
     "name": "stdout",
     "output_type": "stream",
     "text": [
      "                Name Gender\n",
      "0    Adolar Quintana      M\n",
      "1      Antonina René      F\n",
      "2        Danila Yula      F\n",
      "3     Fergus Aquilão      M\n",
      "4       Xereu Aragão      M\n",
      "..               ...    ...\n",
      "995    Adiel Caitria      M\n",
      "996   Berardo Fulton      M\n",
      "997    Mansur Mizael      M\n",
      "998   Cleonice Nowak      F\n",
      "999   Dakarai Celino      F\n",
      "\n",
      "[1000 rows x 2 columns]\n"
     ]
    }
   ],
   "source": [
    "def generate_random_name(row):\n",
    "    random_first_name = random.choice(df['Name'])\n",
    "    random_second_name = random.choice(df['Name'])\n",
    "    random_name = random_first_name + ' ' + random_second_name\n",
    "    first_name_gender = df.loc[df['Name'] == random_first_name, 'Gender'].iloc[0]\n",
    "\n",
    "    return random_name, first_name_gender\n",
    "\n",
    "df[['Name', 'Gender']] = df.apply(generate_random_name, axis=1, result_type='expand')\n",
    "\n",
    "df = df.head(1000)\n",
    "print(df)\n"
   ]
  },
  {
   "cell_type": "code",
   "execution_count": 4,
   "metadata": {},
   "outputs": [
    {
     "name": "stdout",
     "output_type": "stream",
     "text": [
      "                Name Gender           State\n",
      "0    Adolar Quintana      M       São Paulo\n",
      "1      Antonina René      F         Roraima\n",
      "2        Danila Yula      F         Roraima\n",
      "3     Fergus Aquilão      M           Amapá\n",
      "4       Xereu Aragão      M       Tocantins\n",
      "..               ...    ...             ...\n",
      "995    Adiel Caitria      M  Santa Catarina\n",
      "996   Berardo Fulton      M        Rondônia\n",
      "997    Mansur Mizael      M           Ceará\n",
      "998   Cleonice Nowak      F          Paraná\n",
      "999   Dakarai Celino      F     Mato Grosso\n",
      "\n",
      "[1000 rows x 3 columns]\n"
     ]
    }
   ],
   "source": [
    "df_states = pd.read_csv('assets/estados.csv')\n",
    "\n",
    "def random_state_generator(row, df_states):\n",
    "    random_state = random.choice(df_states['NOME'])\n",
    "    return random_state\n",
    "\n",
    "df['State'] = df.apply(random_state_generator, df_states=df_states, axis=1)\n",
    "print(df)"
   ]
  },
  {
   "cell_type": "code",
   "execution_count": 5,
   "metadata": {},
   "outputs": [
    {
     "name": "stdout",
     "output_type": "stream",
     "text": [
      "                Name Gender           State   Birthdate\n",
      "0    Adolar Quintana      M       São Paulo  1948-11-24\n",
      "1      Antonina René      F         Roraima  1951-05-20\n",
      "2        Danila Yula      F         Roraima  1992-09-01\n",
      "3     Fergus Aquilão      M           Amapá  1959-07-03\n",
      "4       Xereu Aragão      M       Tocantins  1960-02-23\n",
      "..               ...    ...             ...         ...\n",
      "995    Adiel Caitria      M  Santa Catarina  2005-05-09\n",
      "996   Berardo Fulton      M        Rondônia  1939-08-26\n",
      "997    Mansur Mizael      M           Ceará  1948-12-09\n",
      "998   Cleonice Nowak      F          Paraná  1956-11-12\n",
      "999   Dakarai Celino      F     Mato Grosso  1963-01-27\n",
      "\n",
      "[1000 rows x 4 columns]\n"
     ]
    }
   ],
   "source": [
    "def generate_random_birthdate(row):\n",
    "    start_date = datetime.now() - timedelta(days=365 * 100)\n",
    "    random_birthdate = start_date + timedelta(days=random.randint(0, 365 * 82))\n",
    "    return random_birthdate\n",
    "\n",
    "df['Birthdate'] = df.apply(generate_random_birthdate, axis=1)\n",
    "df['Birthdate'] = df['Birthdate'].dt.date\n",
    "print(df)"
   ]
  },
  {
   "cell_type": "code",
   "execution_count": 6,
   "metadata": {},
   "outputs": [
    {
     "name": "stdout",
     "output_type": "stream",
     "text": [
      "                Name Gender           State   Birthdate  Age\n",
      "0    Adolar Quintana      M       São Paulo  1948-11-24   75\n",
      "1      Antonina René      F         Roraima  1951-05-20   73\n",
      "2        Danila Yula      F         Roraima  1992-09-01   31\n",
      "3     Fergus Aquilão      M           Amapá  1959-07-03   65\n",
      "4       Xereu Aragão      M       Tocantins  1960-02-23   64\n",
      "..               ...    ...             ...         ...  ...\n",
      "995    Adiel Caitria      M  Santa Catarina  2005-05-09   19\n",
      "996   Berardo Fulton      M        Rondônia  1939-08-26   84\n",
      "997    Mansur Mizael      M           Ceará  1948-12-09   75\n",
      "998   Cleonice Nowak      F          Paraná  1956-11-12   67\n",
      "999   Dakarai Celino      F     Mato Grosso  1963-01-27   61\n",
      "\n",
      "[1000 rows x 5 columns]\n"
     ]
    }
   ],
   "source": [
    "def calculate_age(birthdate):\n",
    "    current_date = datetime.now()\n",
    "    age = current_date.year - birthdate.year - ((current_date.month, current_date.day) < (birthdate.month, birthdate.day))\n",
    "    return age\n",
    "\n",
    "df['Age'] = df['Birthdate'].apply(calculate_age)\n",
    "print(df)"
   ]
  },
  {
   "cell_type": "code",
   "execution_count": 7,
   "metadata": {},
   "outputs": [],
   "source": [
    "df.to_csv('people.csv', index=False)"
   ]
  }
 ],
 "metadata": {
  "kernelspec": {
   "display_name": "sheets",
   "language": "python",
   "name": "python3"
  },
  "language_info": {
   "codemirror_mode": {
    "name": "ipython",
    "version": 3
   },
   "file_extension": ".py",
   "mimetype": "text/x-python",
   "name": "python",
   "nbconvert_exporter": "python",
   "pygments_lexer": "ipython3",
   "version": "3.10.12"
  }
 },
 "nbformat": 4,
 "nbformat_minor": 2
}
