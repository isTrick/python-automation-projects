{
 "cells": [
  {
   "cell_type": "code",
   "execution_count": null,
   "metadata": {},
   "outputs": [],
   "source": [
    "import pandas as pd\n",
    "from datetime import datetime, timedelta\n",
    "import random"
   ]
  },
  {
   "cell_type": "code",
   "execution_count": null,
   "metadata": {},
   "outputs": [],
   "source": [
    "df = pd.read_csv('assets/brazilian-names-and-gender.csv')\n",
    "print(df)"
   ]
  },
  {
   "cell_type": "code",
   "execution_count": null,
   "metadata": {},
   "outputs": [],
   "source": [
    "def generate_random_name(row):\n",
    "    random_first_name = random.choice(df['Name'])\n",
    "    random_second_name = random.choice(df['Name'])\n",
    "    random_name = random_first_name + ' ' + random_second_name\n",
    "    first_name_gender = df.loc[df['Name'] == random_first_name, 'Gender'].iloc[0]\n",
    "\n",
    "    return random_name, first_name_gender\n",
    "\n",
    "df[['Name', 'Gender']] = df.apply(generate_random_name, axis=1, result_type='expand')\n",
    "\n",
    "df = df.head(1000)\n",
    "print(df)\n"
   ]
  },
  {
   "cell_type": "code",
   "execution_count": null,
   "metadata": {},
   "outputs": [],
   "source": [
    "df_states = pd.read_csv('assets/estados.csv')\n",
    "\n",
    "def random_state_generator(row, df_states):\n",
    "    random_state = random.choice(df_states['NOME'])\n",
    "    return random_state\n",
    "\n",
    "df['State'] = df.apply(random_state_generator, df_states=df_states, axis=1)\n",
    "print(df)"
   ]
  },
  {
   "cell_type": "code",
   "execution_count": null,
   "metadata": {},
   "outputs": [],
   "source": [
    "def generate_random_birthdate(row):\n",
    "    start_date = datetime.now() - timedelta(days=365 * 100)\n",
    "    random_birthdate = start_date + timedelta(days=random.randint(0, 365 * 82))\n",
    "    return random_birthdate\n",
    "\n",
    "df['Birthdate'] = df.apply(generate_random_birthdate, axis=1)\n",
    "df['Birthdate'] = df['Birthdate'].dt.date\n",
    "print(df)"
   ]
  },
  {
   "cell_type": "code",
   "execution_count": null,
   "metadata": {},
   "outputs": [],
   "source": [
    "def calculate_age(birthdate):\n",
    "    current_date = datetime.now()\n",
    "    age = current_date.year - birthdate.year - ((current_date.month, current_date.day) < (birthdate.month, birthdate.day))\n",
    "    return age\n",
    "\n",
    "df['Age'] = df['Birthdate'].apply(calculate_age)\n",
    "print(df)"
   ]
  },
  {
   "cell_type": "code",
   "execution_count": null,
   "metadata": {},
   "outputs": [],
   "source": [
    "df.to_csv('people.csv', index=False)"
   ]
  }
 ],
 "metadata": {
  "kernelspec": {
   "display_name": "sheets",
   "language": "python",
   "name": "python3"
  },
  "language_info": {
   "codemirror_mode": {
    "name": "ipython",
    "version": 3
   },
   "file_extension": ".py",
   "mimetype": "text/x-python",
   "name": "python",
   "nbconvert_exporter": "python",
   "pygments_lexer": "ipython3",
   "version": "3.10.12"
  }
 },
 "nbformat": 4,
 "nbformat_minor": 2
}
