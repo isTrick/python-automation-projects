{
 "cells": [
  {
   "cell_type": "code",
   "execution_count": 1,
   "metadata": {},
   "outputs": [],
   "source": [
    "import numpy as np\n",
    "import pandas as pd\n",
    "import random"
   ]
  },
  {
   "cell_type": "code",
   "execution_count": 2,
   "metadata": {},
   "outputs": [
    {
     "name": "stdout",
     "output_type": "stream",
     "text": [
      "          Name Gender\n",
      "0         Abel      M\n",
      "1     Abelardo      M\n",
      "2        Abner      M\n",
      "3       Abraão      M\n",
      "4      Absalom      M\n",
      "...        ...    ...\n",
      "6095      Ésia      F\n",
      "6096      Íria      F\n",
      "6097      Íris      F\n",
      "6098     Úlima      F\n",
      "6099    Úrsula      F\n",
      "\n",
      "[6100 rows x 2 columns]\n"
     ]
    }
   ],
   "source": [
    "df = pd.read_csv('assets/brazilian-names-and-gender.csv')\n",
    "print(df)"
   ]
  },
  {
   "cell_type": "code",
   "execution_count": 4,
   "metadata": {},
   "outputs": [
    {
     "name": "stdout",
     "output_type": "stream",
     "text": [
      "                   Name Gender\n",
      "0      Basiliano Zephan      M\n",
      "1          Inácia Labda      F\n",
      "2     Radagásio Vitoldo      M\n",
      "3       Clementine Mara      F\n",
      "4       Cupertino Hamed      M\n",
      "...                 ...    ...\n",
      "6095  Marigold Cesarino      M\n",
      "6096     Estélio Nicias      M\n",
      "6097       Joly Geralda      M\n",
      "6098   Kailola Carolina      M\n",
      "6099      Soleon Raguel      M\n",
      "\n",
      "[6100 rows x 2 columns]\n"
     ]
    }
   ],
   "source": [
    "def generate_random_name(row):\n",
    "    random_first_name = random.choice(df['Name'])\n",
    "    random_second_name = random.choice(df['Name'])\n",
    "    random_name = random_first_name + ' ' + random_second_name\n",
    "    first_name_gender = df.loc[df['Name'] == random_first_name, 'Gender'].iloc[0]\n",
    "\n",
    "    return random_name, first_name_gender\n",
    "\n",
    "df[['Name', 'Gender']] = df.apply(generate_random_name, axis=1, result_type='expand')\n",
    "\n",
    "# Exibir o novo DataFrame resultante\n",
    "print(df)\n"
   ]
  },
  {
   "cell_type": "code",
   "execution_count": 8,
   "metadata": {},
   "outputs": [
    {
     "name": "stdout",
     "output_type": "stream",
     "text": [
      "                  Name Gender\n",
      "0     Basiliano Zephan      M\n",
      "1         Inácia Labda      F\n",
      "2    Radagásio Vitoldo      M\n",
      "3      Clementine Mara      F\n",
      "4      Cupertino Hamed      M\n",
      "..                 ...    ...\n",
      "495       Leon Savedro      M\n",
      "496  Alencar Vladislau      M\n",
      "497      Ibraim Giulia      M\n",
      "498        Gastão Febo      M\n",
      "499      Perpétua Teçá      F\n",
      "\n",
      "[500 rows x 2 columns]\n"
     ]
    }
   ],
   "source": [
    "df = df.head(1000)\n",
    "print(df)"
   ]
  }
 ],
 "metadata": {
  "kernelspec": {
   "display_name": "sheets",
   "language": "python",
   "name": "python3"
  },
  "language_info": {
   "codemirror_mode": {
    "name": "ipython",
    "version": 3
   },
   "file_extension": ".py",
   "mimetype": "text/x-python",
   "name": "python",
   "nbconvert_exporter": "python",
   "pygments_lexer": "ipython3",
   "version": "3.11.9"
  }
 },
 "nbformat": 4,
 "nbformat_minor": 2
}
